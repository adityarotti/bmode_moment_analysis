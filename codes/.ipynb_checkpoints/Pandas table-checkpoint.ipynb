{
 "cells": [
  {
   "cell_type": "code",
   "execution_count": 2,
   "metadata": {
    "collapsed": false
   },
   "outputs": [
    {
     "name": "stdout",
     "output_type": "stream",
     "text": [
      "Populating the interactive namespace from numpy and matplotlib\n"
     ]
    }
   ],
   "source": [
    "import pandas as pd\n",
    "import collections\n",
    "%pylab notebook"
   ]
  },
  {
   "cell_type": "code",
   "execution_count": 3,
   "metadata": {
    "collapsed": false
   },
   "outputs": [
    {
     "name": "stdout",
     "output_type": "stream",
     "text": [
      "\\begin{tabular}{lllll}\n",
      "\\toprule\n",
      "    &     &     &   &          \\\\\n",
      "i & val0 & val1 & r0 & r1 \\\\\n",
      "\\midrule\n",
      "0.0 & 3.0 & 0.0 & 0 & 0.447114 \\\\\n",
      "    &     & 1.0 & 1 & 0.736867 \\\\\n",
      "    &     & 2.0 &   & 0.335076 \\\\\n",
      "    & 2.0 & 0.0 & 0 & 0.223801 \\\\\n",
      "    &     & 1.0 &   & 0.962647 \\\\\n",
      "    & 1.0 & 0.0 & 1 & 0.289954 \\\\\n",
      "1.0 & 3.0 &     &   & 0.887213 \\\\\n",
      "    &     & 1.0 & 0 & 0.918582 \\\\\n",
      "    &     & 2.0 &   & 0.522461 \\\\\n",
      "    & 2.0 & 0.0 & 1 & 0.443918 \\\\\n",
      "    &     & 1.0 &   & 0.877323 \\\\\n",
      "    & 1.0 & 0.0 & 0 & 0.579390 \\\\\n",
      "\\bottomrule\n",
      "\\end{tabular}\n",
      "\n"
     ]
    }
   ],
   "source": [
    "df = pd.DataFrame()\n",
    "\n",
    "\n",
    "idx = 0\n",
    "for i in range(2):\n",
    "  for val0 in [3,2,1]:\n",
    "    for val1 in range(val0):\n",
    "      idx = idx + 1\n",
    "      r0 = str(np.mod(int(idx*0.5),2))\n",
    "      r1 = np.random.uniform()\n",
    "      df = df.append({\"i\":i,\"val0\" : val0,\\\n",
    "                            \"val1\":val1, \n",
    "                            \"r0\":r0, \\\n",
    "                          \"r1\":r1}, ignore_index=True)\n",
    "\n",
    "\n",
    "df.set_index([\"i\",'val0','val1',\"r0\", 'r1'], inplace=True)\n",
    "\n",
    "print(df.to_latex(escape=False))"
   ]
  },
  {
   "cell_type": "code",
   "execution_count": null,
   "metadata": {
    "collapsed": true
   },
   "outputs": [],
   "source": []
  }
 ],
 "metadata": {
  "kernelspec": {
   "display_name": "Python 2",
   "language": "python",
   "name": "python2"
  },
  "language_info": {
   "codemirror_mode": {
    "name": "ipython",
    "version": 2
   },
   "file_extension": ".py",
   "mimetype": "text/x-python",
   "name": "python",
   "nbconvert_exporter": "python",
   "pygments_lexer": "ipython2",
   "version": "2.7.13"
  },
  "toc": {
   "base_numbering": 1,
   "nav_menu": {},
   "number_sections": true,
   "sideBar": true,
   "skip_h1_title": false,
   "title_cell": "Table of Contents",
   "title_sidebar": "Contents",
   "toc_cell": false,
   "toc_position": {},
   "toc_section_display": true,
   "toc_window_display": true
  }
 },
 "nbformat": 4,
 "nbformat_minor": 2
}
