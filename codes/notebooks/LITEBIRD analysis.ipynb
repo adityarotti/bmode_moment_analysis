{
 "cells": [
  {
   "cell_type": "code",
   "execution_count": 1,
   "metadata": {
    "collapsed": false,
    "deletable": true,
    "editable": true
   },
   "outputs": [
    {
     "name": "stdout",
     "output_type": "stream",
     "text": [
      "Populating the interactive namespace from numpy and matplotlib\n"
     ]
    }
   ],
   "source": [
    "import sys,os\n",
    "import healpy as h\n",
    "sys.path.append(\"../\")\n",
    "%pylab notebook\n",
    "from modules import analysis\n",
    "import collections\n",
    "import pandas as pd\n",
    "pd.set_option('display.max_colwidth', 400)\n",
    "\n",
    "def ensure_dir(file_path):\n",
    "\tdirectory = os.path.dirname(file_path)\n",
    "\tif not os.path.exists(directory):\n",
    "\t\tos.makedirs(directory)\n",
    "        \n",
    "from scipy.interpolate import interp1d\n",
    "from scipy.integrate import quad\n",
    "pd.set_option('display.max_colwidth', -1)\n",
    "from scipy.io.idl import readsav\n"
   ]
  },
  {
   "cell_type": "code",
   "execution_count": 38,
   "metadata": {
    "collapsed": false,
    "deletable": true,
    "editable": true
   },
   "outputs": [
    {
     "name": "stdout",
     "output_type": "stream",
     "text": [
      "dict_keys(['bicep2mask'])\n"
     ]
    }
   ],
   "source": [
    "maskname=\"bicep\"\n",
    "ion()\n",
    "if maskname==\"mask62\":\n",
    "    filename=\"../../dataout/masks/apodized_masks2m2m_v2.sav\"\n",
    "    vv=readsav(filename) ; print vv.viewkeys()\n",
    "    mask=vv.apomask1m\n",
    "elif maskname==\"mask46\":\n",
    "    filename=\"../../dataout/masks/apodized_masks_v2.sav\"\n",
    "    vv=readsav(filename) ; print vv.viewkeys()\n",
    "    mask=vv.apomask1m\n",
    "elif maskname==\"bicep\":\n",
    "    filename=\"../../dataout/masks/bicep2_mask_ns512.sav\"\n",
    "    vv=readsav(filename) ; print vv.viewkeys()\n",
    "    mask=vv.bicep2mask"
   ]
  },
  {
   "cell_type": "markdown",
   "metadata": {
    "deletable": true,
    "editable": true
   },
   "source": [
    "# Paths"
   ]
  },
  {
   "cell_type": "code",
   "execution_count": 39,
   "metadata": {
    "collapsed": false,
    "deletable": true,
    "editable": true
   },
   "outputs": [],
   "source": [
    "result_path=\"../../results/new/\" + maskname + \"/LITEBIRD/\"\n",
    "ensure_dir(result_path)\n",
    "tex_path=result_path + \"/tex_table/\"\n",
    "ensure_dir(tex_path)\n",
    "fig_path=result_path + \"/figures/\"\n",
    "ensure_dir(fig_path)\n",
    "\n",
    "ioff()\n",
    "h.mollview(mask,title=r\"$f_{\\rm sky}$ = \" + str(round(sum(mask)/size(mask),4)))\n",
    "filename = fig_path + \"mask.pdf\"\n",
    "savefig(filename,bbox_inches=\"tight\")\n",
    "\n",
    "color={}\n",
    "color[0.0]=\"tab:blue\"\n",
    "color[0.3]=\"tab:green\"\n",
    "color[0.6]=\"tab:orange\"\n",
    "color[0.9]=\"tab:red\""
   ]
  },
  {
   "cell_type": "markdown",
   "metadata": {
    "deletable": true,
    "editable": true
   },
   "source": [
    "# Analysis"
   ]
  },
  {
   "cell_type": "code",
   "execution_count": 44,
   "metadata": {
    "collapsed": false,
    "deletable": true,
    "editable": true
   },
   "outputs": [],
   "source": [
    "rf=analysis.setup_r_forecasts(instrument=\"LITEBIRD\")\n",
    "rf.setup_master(lmax=450,dell=32,fwhm=40.,mask=mask)\n",
    "rf.run_spectral_analysis()\n",
    "rf.tabulate_rlike(Alens_vals=[0.0,0.3,0.6,0.9],rprop=[1e-5,5e-2,2000],compute_map=False)\n",
    "rf.tabulate_rstat()"
   ]
  },
  {
   "cell_type": "markdown",
   "metadata": {
    "deletable": true,
    "editable": true
   },
   "source": [
    "# Make tables"
   ]
  },
  {
   "cell_type": "code",
   "execution_count": 45,
   "metadata": {
    "collapsed": false,
    "deletable": true,
    "editable": true
   },
   "outputs": [],
   "source": [
    "data_dict=collections.OrderedDict()\n",
    "data_dict[\"Case\"]=[]\n",
    "data_dict[\"Moments\"]=[]\n",
    "data_dict[\"Parameters\"]=[]\n",
    "for idx,adr in enumerate(rf.adr_list):\n",
    "    data_dict[\"Case\"]=data_dict[\"Case\"] + [adr]\n",
    "    data_dict[\"Moments\"]=data_dict[\"Moments\"] + [rf.dd[\"lbl\"][adr][10:]]\n",
    "    data_dict[\"Parameters\"]=data_dict[\"Parameters\"] + [rf.dd[\"npar\"][adr]]\n",
    "df_datadef=pd.DataFrame(data_dict)\n",
    "\n",
    "# Do not uncomment this line it gives bugs in the Latex file.\n",
    "# df_datadef=df_datadef.set_index([\"Case\",\"Moments\"],inplace=False)\n",
    "\n",
    "filename=tex_path + \"/data_definition.tex\"\n",
    "df_datadef.to_latex(filename,columns=[\"Case\",\"Moments\",\"Parameters\"],column_format=\"cll\",escape=False,index=False)"
   ]
  },
  {
   "cell_type": "code",
   "execution_count": 46,
   "metadata": {
    "collapsed": false,
    "deletable": true,
    "editable": true
   },
   "outputs": [],
   "source": [
    "table_stat=collections.OrderedDict()\n",
    "# Ordering here is important. Same ordering in table and also for column names\n",
    "table_stat[\"Case\"]=[]\n",
    "table_stat[\"Alens\"]=[]\n",
    "table_stat[\"rbias\"]=[]\n",
    "table_stat[\"rerr\"]=[]\n",
    "table_stat[\"ul\"]=[]\n",
    "table_stat[\"snr\"]=[]\n",
    "\n",
    "for adr in rf.adr_list:\n",
    "    for Alens in rf.Alens_vals:\n",
    "        table_stat[\"Case\"]=table_stat[\"Case\"] + list([adr])\n",
    "        table_stat[\"Alens\"]=table_stat[\"Alens\"] + list([Alens])\n",
    "        table_stat[\"rbias\"]=table_stat[\"rbias\"] + list([rf.rstat[adr][Alens][\"mp\"]])\n",
    "        table_stat[\"rerr\"]=table_stat[\"rerr\"] + list([rf.rstat[adr][Alens][\"sigma\"]])\n",
    "        table_stat[\"snr\"]=table_stat[\"snr\"] + list([rf.rstat[adr][Alens][\"snr\"]])\n",
    "        table_stat[\"ul\"]=table_stat[\"ul\"] + list(np.float64([rf.rstat[adr][Alens][\"ul\"]]))\n",
    "        \n",
    "df_stat=pd.DataFrame(table_stat)\n",
    "# df_stat.set_index([\"Case\",\"Alens\",\"rbias\",\"rerrl\",\"rerrh\",\"ul\"],inplace=True)\n",
    "df_stat.set_index([\"Case\",\"Alens\"],inplace=True)\n",
    "df_stat.columns=[r\"$r_{\\rm bias}$ \",r\"$\\sigma_r$\",r\"$r_{95}$\",\"SNR\"]\n",
    "filename=tex_path + \"r_statistics.tex\"\n",
    "df_stat.to_latex(filename,longtable=True,column_format=\"cccccc\",escape=False,float_format=\"%.5f\")#'%.4f')"
   ]
  },
  {
   "cell_type": "markdown",
   "metadata": {
    "deletable": true,
    "editable": true
   },
   "source": [
    "# Make figures"
   ]
  },
  {
   "cell_type": "markdown",
   "metadata": {
    "deletable": true,
    "editable": true
   },
   "source": [
    "## Likelihood evolution movie"
   ]
  },
  {
   "cell_type": "code",
   "execution_count": 47,
   "metadata": {
    "collapsed": false,
    "deletable": true,
    "editable": true
   },
   "outputs": [],
   "source": [
    "Alens=0.3\n",
    "ioff()\n",
    "jpeg_path=fig_path + \"/jpeg/\" ; ensure_dir(jpeg_path)\n",
    "for adr in rf.adr_list:\n",
    "    filename=jpeg_path + \"ps_and_bbposterir_\" + adr + \".jpeg\"\n",
    "    filename_pdf=fig_path + \"ps_and_bbposterir_\" + adr + \".pdf\"\n",
    "    fig, ax = subplots(nrows=1, ncols=2, figsize=(16, 5))\n",
    "#   fig, ax = subplots(nrows=1, ncols=2, figsize=(10, 3))\n",
    "    ax[0].plot(rf.lbin,rf.clbin[\"lens\"],\"k*-\",ms=8,lw=3,label=r\"Theory $r \\in [10^{-2},10^{-3}]$\",alpha=0.6)\n",
    "    ax[0].fill_between(rf.lbin,rf.clbin[\"bb\"]*1e-2,rf.clbin[\"bb\"]*1e-3,color=\"k\",alpha=0.2)\n",
    "    ax[0].plot(rf.lbin,rf.clbin[\"cmb\"],\"m.-\",lw=3,label=\"True CMB\")\n",
    "    ax[0].plot(rf.lbin,rf.clbin[\"obs\"][adr],\"g--\",lw=3,label=\"Observations\")\n",
    "    ax[0].plot(rf.lbin,rf.clbin[\"frg\"][adr],\"r-\",lw=2,label=\"Residuals\")\n",
    "    var=((Alens*rf.clbin[\"cmb\"])**2. + rf.clbin[\"noise\"][adr]**2. + rf.clbin[\"frg\"][adr]**2.)\n",
    "    var=var*(2./((2.*rf.lbin+1)*rf.dell*rf.fsky))\n",
    "    ax[0].plot(rf.lbin,np.sqrt(var),\"bo-\",alpha=0.5,lw=3,label=r\"Total Noise $[A_{\\rm lens}=$\" + str(Alens) + \"]\")\n",
    "    ax[0].plot(rf.lbin,rf.clbin[\"noise\"][adr]*sqrt((2./((2.*rf.lbin+1)*rf.dell*rf.fsky))),'--',c=\"brown\",lw=3,label=\"Instrument Noise\")\n",
    "    ax[0].legend(loc=\"upper left\",ncol=2,title=rf.dd['simname'] + \" [Lmax=\" + str(rf.lmax) + \"]\",fontsize=8)\n",
    "    ax[0].set_ylim(1e-6,1e1)\n",
    "    ax[0].set_xlabel(r\"multipole, $\\ell$\",fontsize=10)\n",
    "    ax[0].set_ylabel(r\"$\\ell(\\ell+1)C_{\\ell}/(2\\pi)$\" + \"  $\\mu K^2$\",fontsize=10)\n",
    "    ax[0].grid(which=\"both\",linestyle=\"--\",alpha=0.5)\n",
    "    ax[0].semilogy()\n",
    "    for Alensp in rf.Alens_vals:\n",
    "        ax[1].plot(rf.rvalues,rf.rlike_dict[adr][Alensp],lw=2,label=r\"$A_{\\rm lens}=\" + str(Alensp) + \"$\",c=color[Alensp])\n",
    "        ax[1].axvline(rf.rstat[adr][Alensp][\"mp\"],linestyle=\"-\",alpha=0.8,c=color[Alensp])\n",
    "        ax[1].axvline(rf.rstat[adr][Alensp][\"mp\"] - rf.rstat[adr][Alensp][\"sigma\"],linestyle=\"--\",alpha=0.8,c=color[Alensp])\n",
    "        ax[1].axvline(rf.rstat[adr][Alensp][\"mp\"] + rf.rstat[adr][Alensp][\"sigma\"],linestyle=\"--\",alpha=0.8,c=color[Alensp])\n",
    "    ax[1].set_xlabel(\"Tensor to scalar ratio (r)\",fontsize=10)\n",
    "    ax[1].set_ylabel(r\"$e^{-\\chi^2/2}$\",fontsize=10)\n",
    "    ax[1].legend(loc=\"upper right\")\n",
    "    ax[1].set_ylim(0,1.1)\n",
    "    ax[1].grid(which=\"both\",linestyle=\"--\",alpha=0.4)\n",
    "#     ax[1].semilogx()\n",
    "    ax[1].set_xlim(1e-4,5e-3)\n",
    "    ax[1].axvline(1e-3,color=\"k\",linestyle=\"--\",alpha=0.3)\n",
    "    fig.suptitle(rf.dd[\"lbl\"][adr])\n",
    "    savefig(filename,bbox_inches=\"tight\")\n",
    "    ax[1].set_xlim(rf.rprop[0],rf.rprop[1])\n",
    "    ax[1].semilogx()\n",
    "    savefig(filename_pdf,bbox_inches=\"tight\")\n",
    "    \n",
    "cwd=os.getcwd()\n",
    "os.chdir(jpeg_path)\n",
    "cmd = \"convert -delay 200 -loop 0 *.jpeg ../\" +  rf.dd['simname']\n",
    "cmd = cmd + \"_bbstat_evolve_moments_lmax\" + str(rf.lmax) + \"_dl\" + str(rf.dell) + \".gif\"\n",
    "os.system(cmd)\n",
    "cmd=\"rm *.jpeg\" ; os.system(cmd)\n",
    "os.chdir(cwd)"
   ]
  },
  {
   "cell_type": "markdown",
   "metadata": {
    "deletable": true,
    "editable": true,
    "heading_collapsed": true
   },
   "source": [
    "## Multipole by Multipole likelihood"
   ]
  },
  {
   "cell_type": "code",
   "execution_count": 7,
   "metadata": {
    "collapsed": false,
    "deletable": true,
    "editable": true,
    "hidden": true
   },
   "outputs": [
    {
     "ename": "KeyError",
     "evalue": "0.0",
     "output_type": "error",
     "traceback": [
      "\u001b[0;31m---------------------------------------------------------------------------\u001b[0m",
      "\u001b[0;31mKeyError\u001b[0m                                  Traceback (most recent call last)",
      "\u001b[0;32m<ipython-input-7-68706175ade8>\u001b[0m in \u001b[0;36m<module>\u001b[0;34m()\u001b[0m\n\u001b[1;32m     10\u001b[0m \u001b[0;34m\u001b[0m\u001b[0m\n\u001b[1;32m     11\u001b[0m     \u001b[0mi\u001b[0m\u001b[0;34m=\u001b[0m\u001b[0;36m0\u001b[0m \u001b[0;34m;\u001b[0m \u001b[0mj\u001b[0m\u001b[0;34m=\u001b[0m\u001b[0;36m0\u001b[0m \u001b[0;34m;\u001b[0m \u001b[0mAlens\u001b[0m\u001b[0;34m=\u001b[0m\u001b[0;36m0.0\u001b[0m\u001b[0;34m\u001b[0m\u001b[0m\n\u001b[0;32m---> 12\u001b[0;31m     \u001b[0mimg0\u001b[0m\u001b[0;34m=\u001b[0m\u001b[0max\u001b[0m\u001b[0;34m[\u001b[0m\u001b[0mi\u001b[0m\u001b[0;34m,\u001b[0m\u001b[0mj\u001b[0m\u001b[0;34m]\u001b[0m\u001b[0;34m.\u001b[0m\u001b[0mimshow\u001b[0m\u001b[0;34m(\u001b[0m\u001b[0mrf\u001b[0m\u001b[0;34m.\u001b[0m\u001b[0mrlike_map_dict\u001b[0m\u001b[0;34m[\u001b[0m\u001b[0madr\u001b[0m\u001b[0;34m]\u001b[0m\u001b[0;34m[\u001b[0m\u001b[0mAlens\u001b[0m\u001b[0;34m]\u001b[0m\u001b[0;34m,\u001b[0m\u001b[0maspect\u001b[0m\u001b[0;34m=\u001b[0m\u001b[0;34m'auto'\u001b[0m\u001b[0;34m,\u001b[0m\u001b[0morigin\u001b[0m\u001b[0;34m=\u001b[0m\u001b[0;34m\"lower\"\u001b[0m\u001b[0;34m,\u001b[0m\u001b[0mvmin\u001b[0m\u001b[0;34m=\u001b[0m\u001b[0;36m0\u001b[0m\u001b[0;34m,\u001b[0m\u001b[0mvmax\u001b[0m\u001b[0;34m=\u001b[0m\u001b[0;36m1\u001b[0m\u001b[0;34m)\u001b[0m\u001b[0;34m\u001b[0m\u001b[0m\n\u001b[0m\u001b[1;32m     13\u001b[0m     \u001b[0max\u001b[0m\u001b[0;34m[\u001b[0m\u001b[0mi\u001b[0m\u001b[0;34m,\u001b[0m\u001b[0mj\u001b[0m\u001b[0;34m]\u001b[0m\u001b[0;34m.\u001b[0m\u001b[0mset_xticks\u001b[0m\u001b[0;34m(\u001b[0m\u001b[0mlocx\u001b[0m\u001b[0;34m)\u001b[0m \u001b[0;34m;\u001b[0m \u001b[0max\u001b[0m\u001b[0;34m[\u001b[0m\u001b[0mi\u001b[0m\u001b[0;34m,\u001b[0m\u001b[0mj\u001b[0m\u001b[0;34m]\u001b[0m\u001b[0;34m.\u001b[0m\u001b[0mset_xticklabels\u001b[0m\u001b[0;34m(\u001b[0m\u001b[0mtickx\u001b[0m\u001b[0;34m)\u001b[0m\u001b[0;34m\u001b[0m\u001b[0m\n\u001b[1;32m     14\u001b[0m     \u001b[0max\u001b[0m\u001b[0;34m[\u001b[0m\u001b[0mi\u001b[0m\u001b[0;34m,\u001b[0m\u001b[0mj\u001b[0m\u001b[0;34m]\u001b[0m\u001b[0;34m.\u001b[0m\u001b[0mset_yticks\u001b[0m\u001b[0;34m(\u001b[0m\u001b[0mlocy\u001b[0m\u001b[0;34m)\u001b[0m \u001b[0;34m;\u001b[0m \u001b[0max\u001b[0m\u001b[0;34m[\u001b[0m\u001b[0mi\u001b[0m\u001b[0;34m,\u001b[0m\u001b[0mj\u001b[0m\u001b[0;34m]\u001b[0m\u001b[0;34m.\u001b[0m\u001b[0mset_yticklabels\u001b[0m\u001b[0;34m(\u001b[0m\u001b[0mticky\u001b[0m\u001b[0;34m)\u001b[0m\u001b[0;34m\u001b[0m\u001b[0m\n",
      "\u001b[0;31mKeyError\u001b[0m: 0.0"
     ]
    }
   ],
   "source": [
    "ioff()\n",
    "locx=linspace(0,len(rf.lbin)-1,5) ; tickx=linspace(min(rf.lbin),max(rf.lbin),5)\n",
    "locy=linspace(0,len(rf.rvalues)-1,3) ; ticky=logspace(log10(rf.rprop[0]),log10(rf.rprop[1]),3)\n",
    "\n",
    "jpeg_path=fig_path + \"/jpeg/\" ; ensure_dir(jpeg_path)\n",
    "\n",
    "for adr in rf.adr_list:\n",
    "    filename=jpeg_path + \"ellbyell_bbposterir_\" + adr + \".jpeg\"\n",
    "    fig, ax = subplots(nrows=2, ncols=2, figsize=(13, 8))\n",
    "\n",
    "    i=0 ; j=0 ; Alens=0.0\n",
    "    img0=ax[i,j].imshow(rf.rlike_map_dict[adr][Alens],aspect='auto',origin=\"lower\",vmin=0,vmax=1)\n",
    "    ax[i,j].set_xticks(locx) ; ax[i,j].set_xticklabels(tickx)\n",
    "    ax[i,j].set_yticks(locy) ; ax[i,j].set_yticklabels(ticky)\n",
    "    ax[i,j].set_title(r\"$A_{\\rm lens}=$\" + str(Alens))\n",
    "    # fig.colorbar(img0,ax=ax[i,j])\n",
    "    ax[i,j].set_aspect('auto')\n",
    "\n",
    "    i=0 ; j=1 ; Alens=0.3\n",
    "    img1=ax[i,j].imshow(rf.rlike_map_dict[adr][Alens],aspect='auto',origin=\"lower\",vmin=0,vmax=1)\n",
    "    ax[i,j].set_xticks(locx) ; ax[i,j].set_xticklabels(tickx)\n",
    "    ax[i,j].set_yticks(locy) ; ax[i,j].set_yticklabels(ticky)\n",
    "    ax[i,j].set_title(r\"$A_{\\rm lens}=$\" + str(Alens))\n",
    "    # fig.colorbar(img1,ax=ax[i,j])\n",
    "    ax[i,j].set_aspect('auto')\n",
    "\n",
    "    i=1 ; j=0 ; Alens=0.6\n",
    "    img2=ax[i,j].imshow(rf.rlike_map_dict[adr][Alens],aspect='auto',origin=\"lower\",vmin=0,vmax=1)\n",
    "    ax[i,j].set_xticks(locx) ; ax[i,j].set_xticklabels(tickx)\n",
    "    ax[i,j].set_yticks(locy) ; ax[i,j].set_yticklabels(ticky)\n",
    "    ax[i,j].set_title(r\"$A_{\\rm lens}=$\" + str(Alens))\n",
    "    # fig.colorbar(img2,ax=ax[i,j])\n",
    "    ax[i,j].set_aspect('auto')\n",
    "\n",
    "    i=1 ; j=1 ; Alens=0.9\n",
    "    img3=ax[i,j].imshow(rf.rlike_map_dict[adr][Alens],aspect='auto',origin=\"lower\",vmin=0,vmax=1)\n",
    "    ax[i,j].set_xticks(locx) ; ax[i,j].set_xticklabels(tickx)\n",
    "    ax[i,j].set_yticks(locy) ; ax[i,j].set_yticklabels(ticky)\n",
    "    ax[i,j].set_title(r\"$A_{\\rm lens}=$\" + str(Alens))\n",
    "    # fig.colorbar(img3,ax=ax[i,j])\n",
    "    ax[i,j].set_aspect('auto')\n",
    "\n",
    "    fig.colorbar(img0, ax=ax.ravel().tolist(), shrink=0.6)\n",
    "\n",
    "    fig.suptitle(rf.dd[\"lbl\"][adr])\n",
    "    savefig(filename,bbox_inches=\"tight\")\n",
    "    \n",
    "cwd=os.getcwd()\n",
    "os.chdir(jpeg_path)\n",
    "cmd = \"convert -delay 200 -loop 0 *.jpeg ../\" +  rf.dd['simname']\n",
    "cmd = cmd + \"_ellbyell_bbpost_evolve_moments_lmax\" + str(rf.lmax) + \"_dl\" + str(rf.dell) + \".gif\"\n",
    "os.system(cmd)\n",
    "cmd=\"rm *.jpeg\" ; os.system(cmd)\n",
    "os.chdir(cwd)"
   ]
  },
  {
   "cell_type": "markdown",
   "metadata": {
    "collapsed": true,
    "deletable": true,
    "editable": true
   },
   "source": [
    "## Summary statistics plots"
   ]
  },
  {
   "cell_type": "code",
   "execution_count": 48,
   "metadata": {
    "collapsed": false,
    "deletable": true,
    "editable": true
   },
   "outputs": [],
   "source": [
    "sumstat={}\n",
    "sumstat[\"r_err\"]=collections.OrderedDict()\n",
    "sumstat[\"r_ul\"]=collections.OrderedDict()\n",
    "sumstat[\"r_bias\"]=collections.OrderedDict()\n",
    "sumstat[\"snr\"]=collections.OrderedDict()\n",
    "sumstat[\"uplims\"]=collections.OrderedDict()\n",
    "\n",
    "idx_max=11\n",
    "idx_list=np.arange(len(rf.adr_list[:idx_max]))\n",
    "\n",
    "for Alens in rf.Alens_vals:\n",
    "    for key in sumstat.keys():\n",
    "        sumstat[key][Alens]=np.zeros(len(rf.adr_list[:idx_max]))\n",
    "        if key==\"uplims\":\n",
    "            sumstat[key][Alens]=[]\n",
    "        \n",
    "for idx,adr in enumerate(rf.adr_list[:idx_max][::-1]):\n",
    "    for Alens in rf.Alens_vals:\n",
    "        sumstat[\"r_ul\"][Alens][idx]=rf.rstat[adr][Alens][\"ul\"]\n",
    "        if np.isnan(rf.rstat[adr][Alens][\"ul\"]):\n",
    "            sumstat[\"r_err\"][Alens][idx]=rf.rstat[adr][Alens][\"sigma\"]\n",
    "            sumstat[\"snr\"][Alens][idx]=rf.rstat[adr][Alens][\"snr\"]\n",
    "            sumstat[\"uplims\"][Alens]=sumstat[\"uplims\"][Alens] + list([False])\n",
    "        else:\n",
    "            sumstat[\"r_err\"][Alens][idx]=np.NAN\n",
    "            sumstat[\"snr\"][Alens][idx]=np.NAN\n",
    "            sumstat[\"uplims\"][Alens]=sumstat[\"uplims\"][Alens] + list([True])\n",
    "        sumstat[\"r_bias\"][Alens][idx]=rf.rstat[adr][Alens][\"mp\"]\n",
    "        "
   ]
  },
  {
   "cell_type": "code",
   "execution_count": 49,
   "metadata": {
    "collapsed": false,
    "deletable": true,
    "editable": true
   },
   "outputs": [],
   "source": [
    "fig, ax = subplots(nrows=1, ncols=4, figsize=(16, 4),sharey=True)\n",
    "for ia,Alens in enumerate(rf.Alens_vals):\n",
    "    ax[ia].errorbar(sumstat[\"r_bias\"][Alens]+sumstat[\"r_ul\"][Alens], idx_list,xerr=sumstat[\"r_ul\"][Alens],\n",
    "           marker='',color='k',ecolor='g',markerfacecolor='k',label=\"\",capsize=4,\n",
    "           elinewidth=2,linestyle='None',xuplims=sumstat[\"uplims\"][Alens])\n",
    "    ax[ia].errorbar(sumstat[\"r_bias\"][Alens],idx_list,xerr=sumstat[\"r_err\"][Alens],\n",
    "           marker='.',color='k',ecolor='r',markerfacecolor='k',label=\" \",capsize=3,\n",
    "           elinewidth=2,linestyle='None')\n",
    "    ax[ia].semilogx()\n",
    "    ax[ia].legend(title=str(int(ceil((1-Alens)*100))) + \"% delensing\")\n",
    "    ax[ia].axvline(3e-3,ls=\"--\",c=\"k\")\n",
    "    ax[ia].axvline(0.07,ls=\"--\",c=\"b\")\n",
    "#     ax[ia].set_xlim(rf.rprop[0],rf.rprop[1])\n",
    "    ax[ia].set_xlim(8e-4,2e-2)\n",
    "    ax[ia].set_xlabel(r\"$\\it r$\",fontsize=10)\n",
    "    ax[ia].grid(which=\"both\",alpha=0.3,linestyle=\"dashed\")\n",
    "    ax[ia].set_yticks(idx_list) ; ax[0].set_yticklabels(rf.adr_list[:idx_max][::-1],rotation=0,fontsize=10)\n",
    "\n",
    "subplots_adjust(wspace=0.05, hspace=0)\n",
    "filename=fig_path + rf.dd[\"simname\"] + \"_summary_statistics.pdf\"\n",
    "savefig(filename,bbox_inches=\"tight\",dpi=250)"
   ]
  },
  {
   "cell_type": "code",
   "execution_count": 8,
   "metadata": {
    "collapsed": true,
    "deletable": true,
    "editable": true
   },
   "outputs": [],
   "source": [
    "# import matplotlib.pyplot as plt\n",
    "# ioff()\n",
    "# for ia,Alens in enumerate(rf.Alens_vals):\n",
    "#     filename=jpeg_path + \"summary_statistics_\" + str(ia).zfill(2) + \".jpeg\"\n",
    "#     fig, ax = subplots(nrows=1, ncols=3, figsize=(16, 4),sharey=True)\n",
    "#     img0=ax[0].scatter(idx_list,sumstat[\"r_bias\"][Alens],marker=\"*\",s=100,label=\"Bias\",c=sumstat[\"snr\"][0.0],\n",
    "#                 cmap=plt.cm.jet)\n",
    "#     ax[0].legend(loc=\"upper left\") ; ax[0].semilogy() ; ax[0].set_ylim(1e-4,2e-2)\n",
    "#     ax[0].axhline(3e-3,linestyle=\"--\",color=\"black\",lw=2)\n",
    "#     ax[0].axhline(5e-4,linestyle=\"-.\",color=\"gray\",lw=2)\n",
    "#     ax[0].set_xticks(idx_list) ; ax[0].set_xticklabels(rf.adr_list,rotation=75,fontsize=8)\n",
    "#     ax[0].grid(which=\"both\",alpha=0.3)\n",
    "#     ax[0].set_ylabel(\"Tensor to scalar ratio $r$\",fontsize=15)\n",
    "\n",
    "#     ax[1].scatter(idx_list,sumstat[\"r_err\"][Alens],marker=\"*\",s=100,label=\"Error\",c=sumstat[\"snr\"][0.0],\n",
    "#                cmap=plt.cm.jet)\n",
    "#     ax[1].legend(loc=\"upper left\") ; ax[1].semilogy() ; ax[1].set_ylim(1e-4,2e-2)\n",
    "#     ax[1].axhline(3e-3,linestyle=\"--\",color=\"black\",lw=2)\n",
    "#     ax[1].axhline(5e-4,linestyle=\"-.\",color=\"gray\",lw=2)\n",
    "#     ax[1].set_xticks(idx_list) ; ax[1].set_xticklabels(rf.adr_list,rotation=75,fontsize=8)\n",
    "#     ax[1].grid(which=\"both\",alpha=0.3)\n",
    "\n",
    "#     ax[2].scatter(idx_list,sumstat[\"r_ul\"][Alens],marker=\"*\",s=100,label=\"95% Upper limit\",c=sumstat[\"snr\"][0.0],\n",
    "#                cmap=plt.cm.jet)\n",
    "#     ax[2].legend(loc=\"upper left\") ; ax[2].semilogy() ; ax[2].set_ylim(1e-4,2e-2)\n",
    "#     ax[2].axhline(3e-3,linestyle=\"--\",color=\"black\",lw=2)\n",
    "#     ax[2].axhline(5e-4,linestyle=\"-.\",color=\"gray\",lw=2)\n",
    "#     ax[2].set_xticks(idx_list) ; ax[2].set_xticklabels(rf.adr_list,rotation=75,fontsize=8)\n",
    "#     ax[2].grid(which=\"both\",alpha=0.3)\n",
    "#     fig.colorbar(img0,ax=ax[2])\n",
    "#     subplots_adjust(wspace=0.05, hspace=0)\n",
    "#     fig.suptitle(r\"$A_{\\rm lens}=$\" + str(Alens))\n",
    "#     savefig(filename,bbox_inches=\"tight\")\n",
    "    \n",
    "# cwd=os.getcwd()\n",
    "# os.chdir(jpeg_path)\n",
    "# cmd = \"convert -delay 200 -loop 0 *.jpeg ../\" +  rf.dd['simname']\n",
    "# cmd = cmd + \"_summary_statistics_lmax\" + str(rf.lmax) + \"_dl\" + str(rf.dell) + \".gif\"\n",
    "# os.system(cmd)\n",
    "# cmd=\"rm *.jpeg\" ; os.system(cmd)\n",
    "# os.chdir(cwd)"
   ]
  },
  {
   "cell_type": "code",
   "execution_count": null,
   "metadata": {
    "collapsed": true,
    "deletable": true,
    "editable": true
   },
   "outputs": [],
   "source": []
  }
 ],
 "metadata": {
  "kernelspec": {
   "display_name": "Python 2",
   "language": "python",
   "name": "python2"
  },
  "language_info": {
   "codemirror_mode": {
    "name": "ipython",
    "version": 2
   },
   "file_extension": ".py",
   "mimetype": "text/x-python",
   "name": "python",
   "nbconvert_exporter": "python",
   "pygments_lexer": "ipython2",
   "version": "2.7.13"
  },
  "toc": {
   "base_numbering": 1,
   "nav_menu": {},
   "number_sections": true,
   "sideBar": true,
   "skip_h1_title": false,
   "title_cell": "Table of Contents",
   "title_sidebar": "Contents",
   "toc_cell": false,
   "toc_position": {},
   "toc_section_display": true,
   "toc_window_display": true
  }
 },
 "nbformat": 4,
 "nbformat_minor": 2
}
